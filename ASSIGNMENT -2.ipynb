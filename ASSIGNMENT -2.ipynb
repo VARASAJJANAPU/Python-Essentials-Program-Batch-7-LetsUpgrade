{
 "cells": [
  {
   "cell_type": "markdown",
   "metadata": {},
   "source": [
    "# ASSIGNMENT - 2\n",
    "#PROGRAM FOR\n",
    "\n",
    "\n"
   ]
  },
  {
   "cell_type": "markdown",
   "metadata": {},
   "source": [
    "# Question 1\n",
    "You all are Pilots, you want to land a plane safely, so altitude required for landing a plane is 1000ft, it it is less than tell pilot to land the plane, or it is more than that but less than 5000ft ask the pilot to “come down to 1000ft”, else if it more than 5000ft ask the pilot to “go around and try later” Example : Input - 1000 Output - Safe to Land Example : Input - 4500 Output - Bring down to 1000 Example : Input - 6500 Output - Turn Around"
   ]
  },
  {
   "cell_type": "code",
   "execution_count": 8,
   "metadata": {},
   "outputs": [
    {
     "name": "stdout",
     "output_type": "stream",
     "text": [
      "come down to 1000ft\n"
     ]
    }
   ],
   "source": [
    "x == 4500\n",
    "if x = 1000:\n",
    "    print(\" safe to land the plane\")\n",
    "elif x < 5000 and x > 1000:\n",
    "    print(\"come down to 1000ft\")\n",
    "elif x > 5000:\n",
    "    print(\"go around and try later\")"
   ]
  },
  {
   "cell_type": "code",
   "execution_count": 13,
   "metadata": {},
   "outputs": [
    {
     "name": "stdout",
     "output_type": "stream",
     "text": [
      "go around and try later\n"
     ]
    }
   ],
   "source": [
    "x = 6500\n",
    "if x == 1000:\n",
    "    print(\" safe to land the plane\")\n",
    "elif x < 5000 and x > 1000:\n",
    "    print(\"come down to 1000ft\")\n",
    "elif x > 5000:\n",
    "    print(\"go around and try later\")"
   ]
  },
  {
   "cell_type": "code",
   "execution_count": 47,
   "metadata": {},
   "outputs": [
    {
     "name": "stdout",
     "output_type": "stream",
     "text": [
      "enter a number -1000\n",
      " safe to land the plane\n"
     ]
    }
   ],
   "source": [
    "num = input(\"enter a number -\")\n",
    "num = int(num)\n",
    "if num == 1000:\n",
    "    print(\" safe to land the plane\")\n",
    "elif num < 5000 and num > 1000:\n",
    "    print(\"come down to 1000ft\")\n",
    "elif num > 5000:\n",
    "    print(\"go around and try later\")"
   ]
  },
  {
   "cell_type": "markdown",
   "metadata": {},
   "source": [
    "# Question 2\n",
    "Using for loop please print all the prime numbers between 1- 200 using FOR LOOP AND RANGE\n",
    "function.\n",
    "Output2,3,5,7….."
   ]
  },
  {
   "cell_type": "code",
   "execution_count": null,
   "metadata": {},
   "outputs": [],
   "source": []
  },
  {
   "cell_type": "code",
   "execution_count": 37,
   "metadata": {},
   "outputs": [
    {
     "name": "stdout",
     "output_type": "stream",
     "text": [
      "2\n",
      "3\n",
      "5\n",
      "7\n",
      "11\n",
      "13\n",
      "17\n",
      "19\n",
      "23\n",
      "29\n",
      "31\n",
      "37\n",
      "41\n",
      "43\n",
      "47\n",
      "53\n",
      "59\n",
      "61\n",
      "67\n",
      "71\n",
      "73\n",
      "79\n",
      "83\n",
      "89\n",
      "97\n",
      "101\n",
      "103\n",
      "107\n",
      "109\n",
      "113\n",
      "127\n",
      "131\n",
      "137\n",
      "139\n",
      "149\n",
      "151\n",
      "157\n",
      "163\n",
      "167\n",
      "173\n",
      "179\n",
      "181\n",
      "191\n",
      "193\n",
      "197\n",
      "199\n",
      "Program Ends here\n"
     ]
    }
   ],
   "source": [
    "def prime(number):\n",
    "    for num in range(2,number):\n",
    "        status = True\n",
    "        for i in range(2,num):\n",
    "            if num % i == 0:\n",
    "                status = False\n",
    "        if status:\n",
    "            print(num)\n",
    "\n",
    "\n",
    "prime(201)\n",
    "\n",
    "print(\"Program Ends here\")"
   ]
  },
  {
   "cell_type": "code",
   "execution_count": null,
   "metadata": {},
   "outputs": [],
   "source": []
  }
 ],
 "metadata": {
  "kernelspec": {
   "display_name": "Python 3",
   "language": "python",
   "name": "python3"
  },
  "language_info": {
   "codemirror_mode": {
    "name": "ipython",
    "version": 3
   },
   "file_extension": ".py",
   "mimetype": "text/x-python",
   "name": "python",
   "nbconvert_exporter": "python",
   "pygments_lexer": "ipython3",
   "version": "3.8.3"
  }
 },
 "nbformat": 4,
 "nbformat_minor": 4
}
